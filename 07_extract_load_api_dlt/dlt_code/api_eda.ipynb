{
 "cells": [
  {
   "cell_type": "markdown",
   "id": "cd7f182e",
   "metadata": {},
   "source": [
    "# EDA - jobtech API"
   ]
  },
  {
   "cell_type": "code",
   "execution_count": 2,
   "id": "76caf0cf",
   "metadata": {},
   "outputs": [
    {
     "name": "stdout",
     "output_type": "stream",
     "text": [
      "Lärare till Uppsala, Glaveby Consulting AB\n",
      "JENSEN gymnasium Uppsala söker lärare i matematik/engelska, Jensen Education AB\n",
      "Lärare i SVA/SFI till utbildnings- och jobbcenter i Uppsala, Uppsala kommun\n",
      "Lärare i SVA/SFI till Utbildnings- och jobbcenter i Uppsala (kvällstid), Uppsala kommun\n",
      "Lärare luftbevakning Utbildningsavdelningen StrilS, Försvarsmakten\n",
      "Lärare årskurs F-3 till Flogstaskolan, Uppsala kommun\n",
      "Lärarvikarier i samtliga ämneskombinationer till Grillska gymnasiet i Uppsa, Stadsmissionens Skolstift\n",
      "Yrkeslärare barn och fritid till Ellen Fries gymnasium, Uppsala kommun\n",
      "JENSEN grundskola Kåbo 4-9 söker timvikarier, Jensen Education AB\n",
      "Lärare åk 3-5 till Danmarks skola, Uppsala kommun\n",
      "Jobba som lärare på Sveriges bästa och mest personliga bemanningsföretag!, PersonalExpressen AB\n"
     ]
    }
   ],
   "source": [
    "import requests\n",
    "import json\n",
    "\n",
    "url = 'https://jobsearch.api.jobtechdev.se'\n",
    "url_for_search = f\"{url}/search\"\n",
    "\n",
    "\n",
    "def _get_ads(params):\n",
    "    headers = {'accept': 'application/json'}\n",
    "    response = requests.get(url_for_search, headers=headers, params=params)\n",
    "    response.raise_for_status()  # check for http errors\n",
    "    return json.loads(response.content.decode('utf8'))\n",
    "\n",
    "\n",
    "def example_search_return_number_of_hits(query):\n",
    "    # limit: 0 means no ads, just a value of how many ads were found.\n",
    "    search_params = {'q': query, 'limit': 0}\n",
    "    json_response = _get_ads(search_params)\n",
    "    number_of_hits = json_response['total']['value']\n",
    "    print(f\"\\nNumber of hits = {number_of_hits}\")\n",
    "\n",
    "\n",
    "def example_search_loop_through_hits(query):\n",
    "    # limit = 100 is the max number of hits that can be returned.\n",
    "    # If there are more (which you find with ['total']['value'] in the json response)\n",
    "    # you have to use offset and multiple requests to get all ads.\n",
    "    search_params = {'q': query, 'limit': 100}\n",
    "    json_response = _get_ads(search_params)\n",
    "    hits = json_response['hits']\n",
    "    for hit in hits:   \n",
    "        print(f\"{hit['headline']}, {hit['employer']['name']}\")\n",
    "\n",
    "\n",
    "query = 'lärare uppsala'\n",
    "example_search_loop_through_hits(query)\n"
   ]
  },
  {
   "cell_type": "code",
   "execution_count": 3,
   "id": "f94d97a9",
   "metadata": {},
   "outputs": [
    {
     "name": "stdout",
     "output_type": "stream",
     "text": [
      "\n",
      "Number of hits = 11\n"
     ]
    }
   ],
   "source": [
    "example_search_return_number_of_hits(query)"
   ]
  },
  {
   "cell_type": "code",
   "execution_count": 4,
   "id": "b00fcefd",
   "metadata": {},
   "outputs": [],
   "source": [
    "search_params = {'q': query, 'limit': 100}\n",
    "json_response = _get_ads(search_params)\n",
    "# json_response"
   ]
  },
  {
   "cell_type": "code",
   "execution_count": 5,
   "id": "ca5b61b6",
   "metadata": {},
   "outputs": [
    {
     "data": {
      "text/plain": [
       "dict_keys(['total', 'positions', 'query_time_in_millis', 'result_time_in_millis', 'stats', 'freetext_concepts', 'hits'])"
      ]
     },
     "execution_count": 5,
     "metadata": {},
     "output_type": "execute_result"
    }
   ],
   "source": [
    "json_response.keys()"
   ]
  },
  {
   "cell_type": "code",
   "execution_count": 6,
   "id": "a0da713c",
   "metadata": {},
   "outputs": [
    {
     "data": {
      "text/plain": [
       "11"
      ]
     },
     "execution_count": 6,
     "metadata": {},
     "output_type": "execute_result"
    }
   ],
   "source": [
    "len(json_response.get(\"hits\"))"
   ]
  },
  {
   "cell_type": "code",
   "execution_count": 7,
   "id": "6ce30bc4",
   "metadata": {},
   "outputs": [
    {
     "data": {
      "text/plain": [
       "{'relevance': 0.8742935601263284,\n",
       " 'id': '29945956',\n",
       " 'external_id': '46-556532-7201-4568',\n",
       " 'original_id': None,\n",
       " 'label': '[]',\n",
       " 'webpage_url': 'https://arbetsformedlingen.se/platsbanken/annonser/29945956',\n",
       " 'logo_url': 'https://arbetsformedlingen.se/rest/agas/api/v1/organisation/5565327201/logotyper/logo.png',\n",
       " 'headline': 'JENSEN gymnasium Uppsala söker lärare i matematik/engelska',\n",
       " 'application_deadline': '2025-09-07T23:59:59',\n",
       " 'number_of_vacancies': 1,\n",
       " 'description': {'text': 'JENSEN gymnasium Uppsala startade 2008\\xa0i centrala Uppsala. Vi är en av Uppsalas största skolor och ligger mitt i centrum, perfekt för dig som pendlar. Med närmare två decennier i väggarna erbjuder vi både nytänkande och traditioner. Vi är ett starkt team där var och en tar ansvar för att bygga den fantastiska skola som är JENSEN gymnasium Uppsala.\\n\\nNu söker vi en engagerad och legitimerad lärare i matematik och engelska. Om du är behörig i ett av ämnena kan det också bli aktuellt.\\n\\n\\n\\nTräning för verkligheten och bildning är målet,\\xa0är den röda tråden i hur vi utbildar våra elever. Vi har fokus på litteratur, läsande och skrivande för att bygga en stadig grund för högre studier. Som lärare i matematik och engelska ingår du i två ämneslag som tillsammans utvecklar undervisningen för att aktivera eleverna och ebgagera dem i lektionerna. Vi jobbar för att våra elever ska nå en hög kunskapsnivå och utveckla sitt tänkande - att tänka fritt och tänka stort - det är bildning för oss! På JENSEN gymnasium håller vi hög kvalitet, vilket bekräftas i Skolinspektionens kvalitetsgranskningar.\\n\\nVår företagskultur präglas av höga ambitioner, professionalitet, hälsoprofil och även en uttalad dresscode. Vi har en positiv teamkänsla där alla medarbetare bidrar i att ta ansvar för helheten. På vår senaste nationella medarbetarenkät rekommenderar hela 92% JENSEN som arbetsplats, mycket på grund av arbetsmiljön!\\xa0Eftersom vi har en tydlig hälsoprofil är du troligtvis inne på samma spår.\\n\\nKvalifikationer\\nVi söker dig som är behörig gymnasielärare i matematik och engelska. Som person har du, precis som vi, ett stort engagemang för att utvecklas tillsammans med andra. Du trivs med att arbeta teaminriktat. Du är strukturerad, drivande och gillar att vara en tydlig ledare i klassrummet. Du planerar dina lektioner så att eleverna motiveras att vara aktiva. Du är väl införstådd i gällande styrdokument.\\n\\nAnställningsform\\nTjänsten är en tillsvidareanställning på 100%, med omgående start.\\xa0För den här tjänsten tillämpar vi ferietjänst och sex månader provanställning.\\n\\nDin ansökan\\nDu ansöker genom att registrera din profil och bifoga ett personligt brev och CV i vårt rekryteringssystem. Vi tar enbart emot ansökningar via webben, ansökningar som kommer in på annat sätt kan tyvärr ej behandlas. Urval sker löpande, därför vill vi gärna ha din ansökan så snart som möjligt.\\xa0\\n\\nInom gymnasieskolan måste du enligt lag (2000:873) visa upp ett utdrag från belastningsregistret. Utdraget görs via polisen.se med digitalt BankID. Om du inte har BankID, så kan du beställa hem blanketten, gör detta så snart som möjligt då manuell hantering av blanketten tar lång tid.\\xa0\\xa0\\n\\nFörsta steget i vår rekryteringsprocess är att genomföra två arbetspsykologiska tester. Efter inskickad ansökan får du två mejl direkt efter varandra med testlänkar. Återkoppling får du direkt efter genomförda tester. Har du inte fått något mejl med länk till tester, vänligen kolla i din skräppost då mejlet kan hamna där.\\n\\nKontaktuppgifter\\nVill du veta mer om tjänsten och hur det är att jobba hos oss, vänligen kontakta rektor Lisa Helin på lisa.helin@jenseneducation.se.\\n\\nVill du veta mer om hur det är att jobba på JENSEN gymnasium? Läs mer här!\\n\\nVarmt välkommen med din ansökan!',\n",
       "  'text_formatted': 'JENSEN gymnasium Uppsala startade 2008\\xa0i centrala Uppsala. Vi är en av Uppsalas största skolor och ligger mitt i centrum, perfekt för dig som pendlar. Med närmare två decennier i väggarna erbjuder vi både nytänkande och traditioner. Vi är ett starkt team där var och en tar ansvar för att bygga den fantastiska skola som är JENSEN gymnasium Uppsala.\\n\\nNu söker vi en engagerad och legitimerad lärare i matematik och engelska. Om du är behörig i ett av ämnena kan det också bli aktuellt.\\n\\n\\n\\nTräning för verkligheten och bildning är målet,\\xa0är den röda tråden i hur vi utbildar våra elever. Vi har fokus på litteratur, läsande och skrivande för att bygga en stadig grund för högre studier. Som lärare i matematik och engelska ingår du i två ämneslag som tillsammans utvecklar undervisningen för att aktivera eleverna och ebgagera dem i lektionerna. Vi jobbar för att våra elever ska nå en hög kunskapsnivå och utveckla sitt tänkande - att tänka fritt och tänka stort - det är bildning för oss! På JENSEN gymnasium håller vi hög kvalitet, vilket bekräftas i Skolinspektionens kvalitetsgranskningar.\\n\\nVår företagskultur präglas av höga ambitioner, professionalitet, hälsoprofil och även en uttalad dresscode. Vi har en positiv teamkänsla där alla medarbetare bidrar i att ta ansvar för helheten. På vår senaste nationella medarbetarenkät rekommenderar hela 92% JENSEN som arbetsplats, mycket på grund av arbetsmiljön!\\xa0Eftersom vi har en tydlig hälsoprofil är du troligtvis inne på samma spår.\\n\\nKvalifikationer\\nVi söker dig som är behörig gymnasielärare i matematik och engelska. Som person har du, precis som vi, ett stort engagemang för att utvecklas tillsammans med andra. Du trivs med att arbeta teaminriktat. Du är strukturerad, drivande och gillar att vara en tydlig ledare i klassrummet. Du planerar dina lektioner så att eleverna motiveras att vara aktiva. Du är väl införstådd i gällande styrdokument.\\n\\nAnställningsform\\nTjänsten är en tillsvidareanställning på 100%, med omgående start.\\xa0För den här tjänsten tillämpar vi ferietjänst och sex månader provanställning.\\n\\nDin ansökan\\nDu ansöker genom att registrera din profil och bifoga ett personligt brev och CV i vårt rekryteringssystem. Vi tar enbart emot ansökningar via webben, ansökningar som kommer in på annat sätt kan tyvärr ej behandlas. Urval sker löpande, därför vill vi gärna ha din ansökan så snart som möjligt.\\xa0\\n\\nInom gymnasieskolan måste du enligt lag (2000:873) visa upp ett utdrag från belastningsregistret. Utdraget görs via polisen.se med digitalt BankID. Om du inte har BankID, så kan du beställa hem blanketten, gör detta så snart som möjligt då manuell hantering av blanketten tar lång tid.\\xa0\\xa0\\n\\nFörsta steget i vår rekryteringsprocess är att genomföra två arbetspsykologiska tester. Efter inskickad ansökan får du två mejl direkt efter varandra med testlänkar. Återkoppling får du direkt efter genomförda tester. Har du inte fått något mejl med länk till tester, vänligen kolla i din skräppost då mejlet kan hamna där.\\n\\nKontaktuppgifter\\nVill du veta mer om tjänsten och hur det är att jobba hos oss, vänligen kontakta rektor Lisa Helin på lisa.helin@jenseneducation.se.\\n\\nVill du veta mer om hur det är att jobba på JENSEN gymnasium? Läs mer här!\\n\\nVarmt välkommen med din ansökan!',\n",
       "  'company_information': None,\n",
       "  'needs': None,\n",
       "  'requirements': None,\n",
       "  'conditions': 'Heltid/\\r\\nEj specificerat'},\n",
       " 'employment_type': {'concept_id': 'PFZr_Syz_cUq',\n",
       "  'label': 'Vanlig anställning',\n",
       "  'legacy_ams_taxonomy_id': '1'},\n",
       " 'salary_type': {'concept_id': 'oG8G_9cW_nRf',\n",
       "  'label': 'Fast månads- vecko- eller timlön',\n",
       "  'legacy_ams_taxonomy_id': '1'},\n",
       " 'salary_description': 'Individuell lönesättning',\n",
       " 'duration': {'concept_id': 'a7uU_j21_mkL',\n",
       "  'label': 'Tills vidare',\n",
       "  'legacy_ams_taxonomy_id': '1'},\n",
       " 'working_hours_type': {'concept_id': '6YE1_gAC_R2G',\n",
       "  'label': 'Heltid',\n",
       "  'legacy_ams_taxonomy_id': '1'},\n",
       " 'scope_of_work': {'min': 100, 'max': 100},\n",
       " 'access': None,\n",
       " 'employer': {'phone_number': None,\n",
       "  'email': None,\n",
       "  'url': 'http://www.jenseneducation.se/',\n",
       "  'organization_number': '5565327201',\n",
       "  'name': 'Jensen Education AB',\n",
       "  'workplace': 'JENSEN education'},\n",
       " 'application_details': {'information': None,\n",
       "  'reference': None,\n",
       "  'email': None,\n",
       "  'via_af': False,\n",
       "  'url': 'https://jobb.jenseneducation.se/job-details.html?rmpage=apply&rmjob=4568&ref=arbetsformedlingen.se%2Fplatsbanken%2F&utm_medium=talentech_publishing&utm_source=platsbanken',\n",
       "  'other': None},\n",
       " 'experience_required': True,\n",
       " 'access_to_own_car': False,\n",
       " 'driving_license_required': False,\n",
       " 'driving_license': None,\n",
       " 'occupation': {'concept_id': 'f8q7_Rwv_TP4',\n",
       "  'label': 'Lärare i gymnasieskolan',\n",
       "  'legacy_ams_taxonomy_id': '7127'},\n",
       " 'occupation_group': {'concept_id': '4KhP_FxL_uZ5',\n",
       "  'label': 'Gymnasielärare',\n",
       "  'legacy_ams_taxonomy_id': '2330'},\n",
       " 'occupation_field': {'concept_id': 'MVqp_eS8_kDZ',\n",
       "  'label': 'Pedagogik',\n",
       "  'legacy_ams_taxonomy_id': '15'},\n",
       " 'workplace_address': {'municipality': 'Uppsala',\n",
       "  'municipality_code': '0380',\n",
       "  'municipality_concept_id': 'otaF_bQY_4ZD',\n",
       "  'region': 'Uppsala län',\n",
       "  'region_code': '03',\n",
       "  'region_concept_id': 'zBon_eET_fFU',\n",
       "  'country': 'Sverige',\n",
       "  'country_code': '199',\n",
       "  'country_concept_id': 'i46j_HmG_v64',\n",
       "  'street_address': None,\n",
       "  'postcode': None,\n",
       "  'city': None,\n",
       "  'coordinates': [17.638927, 59.858562]},\n",
       " 'must_have': {'skills': [],\n",
       "  'languages': [],\n",
       "  'work_experiences': [{'weight': 10,\n",
       "    'concept_id': 'f8q7_Rwv_TP4',\n",
       "    'label': 'Lärare i gymnasieskolan',\n",
       "    'legacy_ams_taxonomy_id': '7127'}],\n",
       "  'education': [],\n",
       "  'education_level': []},\n",
       " 'nice_to_have': {'skills': [],\n",
       "  'languages': [],\n",
       "  'work_experiences': [],\n",
       "  'education': [],\n",
       "  'education_level': []},\n",
       " 'application_contacts': [],\n",
       " 'publication_date': '2025-08-25T13:53:05',\n",
       " 'last_publication_date': '2025-09-07T23:59:59',\n",
       " 'removed': False,\n",
       " 'removed_date': None,\n",
       " 'source_type': 'VIA_PLATSBANKEN_DXA',\n",
       " 'timestamp': 1756122785701}"
      ]
     },
     "execution_count": 7,
     "metadata": {},
     "output_type": "execute_result"
    }
   ],
   "source": [
    "json_response.get(\"hits\")[1]"
   ]
  },
  {
   "cell_type": "code",
   "execution_count": 8,
   "id": "2c36b25c",
   "metadata": {},
   "outputs": [
    {
     "data": {
      "text/plain": [
       "'JENSEN gymnasium Uppsala söker lärare i matematik/engelska'"
      ]
     },
     "execution_count": 8,
     "metadata": {},
     "output_type": "execute_result"
    }
   ],
   "source": [
    "json_response.get(\"hits\")[1]['headline']"
   ]
  },
  {
   "cell_type": "code",
   "execution_count": 13,
   "id": "5f66ed1e",
   "metadata": {},
   "outputs": [
    {
     "data": {
      "text/plain": [
       "dict_keys(['total', 'positions', 'query_time_in_millis', 'result_time_in_millis', 'stats', 'freetext_concepts', 'hits'])"
      ]
     },
     "execution_count": 13,
     "metadata": {},
     "output_type": "execute_result"
    }
   ],
   "source": [
    "json_response = _get_ads({'q': \"data engineer\", 'limit': 100})\n",
    "json_response.keys()"
   ]
  },
  {
   "cell_type": "code",
   "execution_count": 16,
   "id": "7d56f658",
   "metadata": {},
   "outputs": [
    {
     "data": {
      "text/plain": [
       "('Senior Software Engineer - Data & Video Analytics, Lund',\n",
       " 'Axis Communications AB')"
      ]
     },
     "execution_count": 16,
     "metadata": {},
     "output_type": "execute_result"
    }
   ],
   "source": [
    "json_response['hits'][-1]['headline'], json_response['hits'][-1]['employer']['name']"
   ]
  }
 ],
 "metadata": {
  "kernelspec": {
   "display_name": "data_warehouse_course_de24",
   "language": "python",
   "name": "python3"
  },
  "language_info": {
   "codemirror_mode": {
    "name": "ipython",
    "version": 3
   },
   "file_extension": ".py",
   "mimetype": "text/x-python",
   "name": "python",
   "nbconvert_exporter": "python",
   "pygments_lexer": "ipython3",
   "version": "3.12.5"
  }
 },
 "nbformat": 4,
 "nbformat_minor": 5
}
